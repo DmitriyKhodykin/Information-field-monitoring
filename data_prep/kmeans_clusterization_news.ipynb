{
 "cells": [
  {
   "cell_type": "markdown",
   "metadata": {},
   "source": [
    "# Clusterization parsed news"
   ]
  },
  {
   "cell_type": "markdown",
   "metadata": {},
   "source": [
    "- https://sanjayasubedi.com.np/nlp/nlp-with-python-document-clustering/\n",
    "- https://analyticsindiamag.com/step-by-step-guide-to-implement-multi-class-classification-with-bert-tensorflow/\n",
    "- https://neurohive.io/ru/tutorial/bert-klassifikacya-teksta/ - BERT для мультиклассовой классификации текста\n",
    "- https://proglib.io/p/unsupervised-ml-with-python/ - Обучение без учителя"
   ]
  },
  {
   "cell_type": "code",
   "execution_count": 1,
   "metadata": {},
   "outputs": [],
   "source": [
    "# Imports\n",
    "import pandas as pd\n",
    "import numpy as np\n",
    "from sklearn.cluster import MiniBatchKMeans\n",
    "from sklearn.feature_extraction.text import TfidfVectorizer\n",
    "from sklearn.decomposition import PCA\n",
    "import matplotlib.pyplot as plt\n",
    "import pymysql.cursors"
   ]
  },
  {
   "cell_type": "markdown",
   "metadata": {},
   "source": [
    "## Get data"
   ]
  },
  {
   "cell_type": "code",
   "execution_count": 3,
   "metadata": {},
   "outputs": [],
   "source": [
    "# Autorizations data\n",
    "\n",
    "host_ifm = '*****'\n",
    "db_ifm = 'information_field'\n",
    "user_ifm = '*****'\n",
    "passwd_ifm = '*****'"
   ]
  },
  {
   "cell_type": "code",
   "execution_count": 13,
   "metadata": {},
   "outputs": [],
   "source": [
    "def get_connection():\n",
    "    \"\"\"Get connection in db\"\"\"\n",
    "    \n",
    "    connection = pymysql.connect(host=host_ifm,\n",
    "                                 user=user_ifm,\n",
    "                                 password=passwd_ifm,                             \n",
    "                                 db=db_ifm,\n",
    "                                 charset='utf8mb4',\n",
    "                                 cursorclass=pymysql.cursors.DictCursor)\n",
    "    return connection\n",
    "\n",
    "\n",
    "connection = get_connection()\n",
    "news = pd.read_sql_query(\"SELECT * FROM news\", connection)\n",
    "connection.close()\n"
   ]
  },
  {
   "cell_type": "code",
   "execution_count": 18,
   "metadata": {},
   "outputs": [],
   "source": [
    "news.to_excel('sample_data.xlsx', index=False)"
   ]
  },
  {
   "cell_type": "code",
   "execution_count": 2,
   "metadata": {},
   "outputs": [],
   "source": [
    "df = pd.read_excel('sample_data.xlsx')"
   ]
  },
  {
   "cell_type": "code",
   "execution_count": 3,
   "metadata": {},
   "outputs": [
    {
     "data": {
      "text/html": [
       "<div>\n",
       "<style scoped>\n",
       "    .dataframe tbody tr th:only-of-type {\n",
       "        vertical-align: middle;\n",
       "    }\n",
       "\n",
       "    .dataframe tbody tr th {\n",
       "        vertical-align: top;\n",
       "    }\n",
       "\n",
       "    .dataframe thead th {\n",
       "        text-align: right;\n",
       "    }\n",
       "</style>\n",
       "<table border=\"1\" class=\"dataframe\">\n",
       "  <thead>\n",
       "    <tr style=\"text-align: right;\">\n",
       "      <th></th>\n",
       "      <th>idnews</th>\n",
       "      <th>entrydate</th>\n",
       "      <th>headers</th>\n",
       "      <th>texts</th>\n",
       "      <th>links</th>\n",
       "    </tr>\n",
       "  </thead>\n",
       "  <tbody>\n",
       "    <tr>\n",
       "      <th>0</th>\n",
       "      <td>1</td>\n",
       "      <td>2020-03-30</td>\n",
       "      <td>МОСКВА, 30 мар — РИА Новости. Президент России...</td>\n",
       "      <td>МОСКВА, 30 мар — РИА Новости. Президент России...</td>\n",
       "      <td>https://ria.ru/20200330/1569358952.html</td>\n",
       "    </tr>\n",
       "    <tr>\n",
       "      <th>1</th>\n",
       "      <td>2</td>\n",
       "      <td>2020-03-30</td>\n",
       "      <td>МОСКВА, 30 мар — РИА Новости. Кабинет министро...</td>\n",
       "      <td>МОСКВА, 30 мар — РИА Новости. Кабинет министро...</td>\n",
       "      <td>https://ria.ru/20200330/1569355267.html</td>\n",
       "    </tr>\n",
       "    <tr>\n",
       "      <th>2</th>\n",
       "      <td>3</td>\n",
       "      <td>2020-03-30</td>\n",
       "      <td>МОСКВА, 30 мар — РИА Новости. В одной из столи...</td>\n",
       "      <td>МОСКВА, 30 мар — РИА Новости. В одной из столи...</td>\n",
       "      <td>https://ria.ru/20200330/1569348601.html</td>\n",
       "    </tr>\n",
       "    <tr>\n",
       "      <th>3</th>\n",
       "      <td>4</td>\n",
       "      <td>2020-03-30</td>\n",
       "      <td>МОСКВА, 30 мар — РИА Новости. Ограничительные ...</td>\n",
       "      <td>МОСКВА, 30 мар — РИА Новости. Ограничительные ...</td>\n",
       "      <td>https://ria.ru/20200330/1569351454.html</td>\n",
       "    </tr>\n",
       "    <tr>\n",
       "      <th>4</th>\n",
       "      <td>5</td>\n",
       "      <td>2020-03-30</td>\n",
       "      <td>МОСКВА, 30 мар — РИА Новости. Цена поставляемо...</td>\n",
       "      <td>МОСКВА, 30 мар — РИА Новости. Цена поставляемо...</td>\n",
       "      <td>https://ria.ru/20200330/1569357365.html</td>\n",
       "    </tr>\n",
       "  </tbody>\n",
       "</table>\n",
       "</div>"
      ],
      "text/plain": [
       "   idnews  entrydate                                            headers  \\\n",
       "0       1 2020-03-30  МОСКВА, 30 мар — РИА Новости. Президент России...   \n",
       "1       2 2020-03-30  МОСКВА, 30 мар — РИА Новости. Кабинет министро...   \n",
       "2       3 2020-03-30  МОСКВА, 30 мар — РИА Новости. В одной из столи...   \n",
       "3       4 2020-03-30  МОСКВА, 30 мар — РИА Новости. Ограничительные ...   \n",
       "4       5 2020-03-30  МОСКВА, 30 мар — РИА Новости. Цена поставляемо...   \n",
       "\n",
       "                                               texts  \\\n",
       "0  МОСКВА, 30 мар — РИА Новости. Президент России...   \n",
       "1  МОСКВА, 30 мар — РИА Новости. Кабинет министро...   \n",
       "2  МОСКВА, 30 мар — РИА Новости. В одной из столи...   \n",
       "3  МОСКВА, 30 мар — РИА Новости. Ограничительные ...   \n",
       "4  МОСКВА, 30 мар — РИА Новости. Цена поставляемо...   \n",
       "\n",
       "                                     links  \n",
       "0  https://ria.ru/20200330/1569358952.html  \n",
       "1  https://ria.ru/20200330/1569355267.html  \n",
       "2  https://ria.ru/20200330/1569348601.html  \n",
       "3  https://ria.ru/20200330/1569351454.html  \n",
       "4  https://ria.ru/20200330/1569357365.html  "
      ]
     },
     "execution_count": 3,
     "metadata": {},
     "output_type": "execute_result"
    }
   ],
   "source": [
    "df.head()"
   ]
  },
  {
   "cell_type": "code",
   "execution_count": 4,
   "metadata": {},
   "outputs": [
    {
     "name": "stdout",
     "output_type": "stream",
     "text": [
      "<class 'pandas.core.frame.DataFrame'>\n",
      "RangeIndex: 2020 entries, 0 to 2019\n",
      "Data columns (total 5 columns):\n",
      "idnews       2020 non-null int64\n",
      "entrydate    2020 non-null datetime64[ns]\n",
      "headers      2020 non-null object\n",
      "texts        2020 non-null object\n",
      "links        2020 non-null object\n",
      "dtypes: datetime64[ns](1), int64(1), object(3)\n",
      "memory usage: 79.0+ KB\n"
     ]
    }
   ],
   "source": [
    "df.info()"
   ]
  },
  {
   "cell_type": "markdown",
   "metadata": {},
   "source": [
    "## Introduction"
   ]
  },
  {
   "cell_type": "markdown",
   "metadata": {},
   "source": [
    "Clustering is a process of grouping similar items together. Each group, also called as a cluster, contains items that are similar to each other. Clustering algorithms are unsupervised learning algorithms i.e. we do not need to have labelled datasets. There are many clustering algorithms for clustering including KMeans, DBSCAN, Spectral clustering, hierarchical clustering etc and they have their own advantages and disadvantages. The choice of the algorithm mainly depends on whether or not you already know how many clusters to create. Some algorithms such as KMeans need you to specify number of clusters to create whereas DBSCAN does not need you to specify. Another consideration is whether you need the trained model to able to predict cluster for unseen dataset. KMeans can be used to predict the clusters for new dataset whereas DBSCAN cannot be used for new dataset."
   ]
  },
  {
   "cell_type": "markdown",
   "metadata": {},
   "source": [
    "## Feature extraction"
   ]
  },
  {
   "cell_type": "markdown",
   "metadata": {},
   "source": [
    "For each article in our dataset, we’ll compute TF-IDF values."
   ]
  },
  {
   "cell_type": "code",
   "execution_count": 5,
   "metadata": {},
   "outputs": [],
   "source": [
    "vec = TfidfVectorizer()\n",
    "vec.fit(df.texts.values)\n",
    "features = vec.transform(df.texts.values)"
   ]
  },
  {
   "cell_type": "markdown",
   "metadata": {},
   "source": [
    "Now we have our feature matrix, we can feed to the model for training."
   ]
  },
  {
   "cell_type": "markdown",
   "metadata": {},
   "source": [
    "## Model training"
   ]
  },
  {
   "cell_type": "markdown",
   "metadata": {},
   "source": [
    "Let’s create an instance of KMeans. I’ll choose 5 as the number of clusters since the dataset contains articles that belong to one of 5 categories. Obviously, if you do not have labels then you won’t exactly know how many clusters to create so you have to find the best one that fits your needs via running multiple experiements and using domain knowledge to guide you.\n",
    "\n",
    "Creating a model is pretty simple."
   ]
  },
  {
   "cell_type": "code",
   "execution_count": 57,
   "metadata": {},
   "outputs": [
    {
     "data": {
      "text/plain": [
       "MiniBatchKMeans(batch_size=100, compute_labels=True, init='k-means++',\n",
       "                init_size=None, max_iter=100, max_no_improvement=10,\n",
       "                n_clusters=3, n_init=3, random_state=0, reassignment_ratio=0.01,\n",
       "                tol=0.0, verbose=0)"
      ]
     },
     "execution_count": 57,
     "metadata": {},
     "output_type": "execute_result"
    }
   ],
   "source": [
    "random_state = 0\n",
    "cls = MiniBatchKMeans(n_clusters=3, random_state=random_state)\n",
    "cls.fit(features)"
   ]
  },
  {
   "cell_type": "markdown",
   "metadata": {},
   "source": [
    "That is all it takes to create and train a clustering model. Now to predict the clusters, we can call predict function of the model. Note that not all clustering algorithms can predit on new datasets. In that case, you can get the cluster labels of the data that you used when calling the fit function using labels_ attribute of the model."
   ]
  },
  {
   "cell_type": "markdown",
   "metadata": {},
   "source": [
    "## Visualization"
   ]
  },
  {
   "cell_type": "markdown",
   "metadata": {},
   "source": [
    "To visualize, we’ll plot the features in a 2D space. As we know the dimension of features that we obtained from TfIdfVectorizer is quite large ( > 10,000), we need to reduce the dimension before we can plot. For this, we’ll ues PCA to transform our high dimensional features into 2 dimensions."
   ]
  },
  {
   "cell_type": "code",
   "execution_count": 58,
   "metadata": {},
   "outputs": [],
   "source": [
    "labels = cls.labels_"
   ]
  },
  {
   "cell_type": "code",
   "execution_count": 59,
   "metadata": {},
   "outputs": [],
   "source": [
    "df['labels'] = labels"
   ]
  },
  {
   "cell_type": "code",
   "execution_count": 60,
   "metadata": {},
   "outputs": [
    {
     "data": {
      "text/html": [
       "<div>\n",
       "<style scoped>\n",
       "    .dataframe tbody tr th:only-of-type {\n",
       "        vertical-align: middle;\n",
       "    }\n",
       "\n",
       "    .dataframe tbody tr th {\n",
       "        vertical-align: top;\n",
       "    }\n",
       "\n",
       "    .dataframe thead th {\n",
       "        text-align: right;\n",
       "    }\n",
       "</style>\n",
       "<table border=\"1\" class=\"dataframe\">\n",
       "  <thead>\n",
       "    <tr style=\"text-align: right;\">\n",
       "      <th></th>\n",
       "      <th>idnews</th>\n",
       "      <th>entrydate</th>\n",
       "      <th>headers</th>\n",
       "      <th>texts</th>\n",
       "      <th>links</th>\n",
       "      <th>labels</th>\n",
       "    </tr>\n",
       "  </thead>\n",
       "  <tbody>\n",
       "    <tr>\n",
       "      <th>0</th>\n",
       "      <td>1</td>\n",
       "      <td>2020-03-30</td>\n",
       "      <td>МОСКВА, 30 мар — РИА Новости. Президент России...</td>\n",
       "      <td>МОСКВА, 30 мар — РИА Новости. Президент России...</td>\n",
       "      <td>https://ria.ru/20200330/1569358952.html</td>\n",
       "      <td>2</td>\n",
       "    </tr>\n",
       "    <tr>\n",
       "      <th>1</th>\n",
       "      <td>2</td>\n",
       "      <td>2020-03-30</td>\n",
       "      <td>МОСКВА, 30 мар — РИА Новости. Кабинет министро...</td>\n",
       "      <td>МОСКВА, 30 мар — РИА Новости. Кабинет министро...</td>\n",
       "      <td>https://ria.ru/20200330/1569355267.html</td>\n",
       "      <td>2</td>\n",
       "    </tr>\n",
       "    <tr>\n",
       "      <th>2</th>\n",
       "      <td>3</td>\n",
       "      <td>2020-03-30</td>\n",
       "      <td>МОСКВА, 30 мар — РИА Новости. В одной из столи...</td>\n",
       "      <td>МОСКВА, 30 мар — РИА Новости. В одной из столи...</td>\n",
       "      <td>https://ria.ru/20200330/1569348601.html</td>\n",
       "      <td>2</td>\n",
       "    </tr>\n",
       "    <tr>\n",
       "      <th>3</th>\n",
       "      <td>4</td>\n",
       "      <td>2020-03-30</td>\n",
       "      <td>МОСКВА, 30 мар — РИА Новости. Ограничительные ...</td>\n",
       "      <td>МОСКВА, 30 мар — РИА Новости. Ограничительные ...</td>\n",
       "      <td>https://ria.ru/20200330/1569351454.html</td>\n",
       "      <td>0</td>\n",
       "    </tr>\n",
       "    <tr>\n",
       "      <th>4</th>\n",
       "      <td>5</td>\n",
       "      <td>2020-03-30</td>\n",
       "      <td>МОСКВА, 30 мар — РИА Новости. Цена поставляемо...</td>\n",
       "      <td>МОСКВА, 30 мар — РИА Новости. Цена поставляемо...</td>\n",
       "      <td>https://ria.ru/20200330/1569357365.html</td>\n",
       "      <td>0</td>\n",
       "    </tr>\n",
       "  </tbody>\n",
       "</table>\n",
       "</div>"
      ],
      "text/plain": [
       "   idnews  entrydate                                            headers  \\\n",
       "0       1 2020-03-30  МОСКВА, 30 мар — РИА Новости. Президент России...   \n",
       "1       2 2020-03-30  МОСКВА, 30 мар — РИА Новости. Кабинет министро...   \n",
       "2       3 2020-03-30  МОСКВА, 30 мар — РИА Новости. В одной из столи...   \n",
       "3       4 2020-03-30  МОСКВА, 30 мар — РИА Новости. Ограничительные ...   \n",
       "4       5 2020-03-30  МОСКВА, 30 мар — РИА Новости. Цена поставляемо...   \n",
       "\n",
       "                                               texts  \\\n",
       "0  МОСКВА, 30 мар — РИА Новости. Президент России...   \n",
       "1  МОСКВА, 30 мар — РИА Новости. Кабинет министро...   \n",
       "2  МОСКВА, 30 мар — РИА Новости. В одной из столи...   \n",
       "3  МОСКВА, 30 мар — РИА Новости. Ограничительные ...   \n",
       "4  МОСКВА, 30 мар — РИА Новости. Цена поставляемо...   \n",
       "\n",
       "                                     links  labels  \n",
       "0  https://ria.ru/20200330/1569358952.html       2  \n",
       "1  https://ria.ru/20200330/1569355267.html       2  \n",
       "2  https://ria.ru/20200330/1569348601.html       2  \n",
       "3  https://ria.ru/20200330/1569351454.html       0  \n",
       "4  https://ria.ru/20200330/1569357365.html       0  "
      ]
     },
     "execution_count": 60,
     "metadata": {},
     "output_type": "execute_result"
    }
   ],
   "source": [
    "df.head()"
   ]
  },
  {
   "cell_type": "code",
   "execution_count": 68,
   "metadata": {},
   "outputs": [
    {
     "data": {
      "image/png": "[encoded data removed]",
      "text/plain": [
       "<Figure size 432x288 with 1 Axes>"
      ]
     },
     "metadata": {
      "needs_background": "light"
     },
     "output_type": "display_data"
    }
   ],
   "source": [
    "df[['labels']].plot(kind='hist', title='Type Frequency');"
   ]
  },
  {
   "cell_type": "code",
   "execution_count": 87,
   "metadata": {},
   "outputs": [
    {
     "data": {
      "text/html": [
       "<div>\n",
       "<style scoped>\n",
       "    .dataframe tbody tr th:only-of-type {\n",
       "        vertical-align: middle;\n",
       "    }\n",
       "\n",
       "    .dataframe tbody tr th {\n",
       "        vertical-align: top;\n",
       "    }\n",
       "\n",
       "    .dataframe thead th {\n",
       "        text-align: right;\n",
       "    }\n",
       "</style>\n",
       "<table border=\"1\" class=\"dataframe\">\n",
       "  <thead>\n",
       "    <tr style=\"text-align: right;\">\n",
       "      <th></th>\n",
       "      <th>idnews</th>\n",
       "      <th>entrydate</th>\n",
       "      <th>headers</th>\n",
       "      <th>texts</th>\n",
       "      <th>links</th>\n",
       "      <th>labels</th>\n",
       "    </tr>\n",
       "  </thead>\n",
       "  <tbody>\n",
       "    <tr>\n",
       "      <th>452</th>\n",
       "      <td>480</td>\n",
       "      <td>2020-04-02</td>\n",
       "      <td>Москва. 2 апреля. INTERFAX.RU - Традиционное з...</td>\n",
       "      <td>Москва. 2 апреля. INTERFAX.RU - Традиционное з...</td>\n",
       "      <td>https://www.interfax.ru/world/702067</td>\n",
       "      <td>0</td>\n",
       "    </tr>\n",
       "    <tr>\n",
       "      <th>447</th>\n",
       "      <td>475</td>\n",
       "      <td>2020-04-02</td>\n",
       "      <td>Москва. 2 апреля. INTERFAX.RU - Премьер-минист...</td>\n",
       "      <td>Москва. 2 апреля. INTERFAX.RU - Премьер-минист...</td>\n",
       "      <td>https://www.interfax.ru/world/702071</td>\n",
       "      <td>0</td>\n",
       "    </tr>\n",
       "    <tr>\n",
       "      <th>1590</th>\n",
       "      <td>2662</td>\n",
       "      <td>2020-04-19</td>\n",
       "      <td>МОСКВА, 19 апр — РИА Новости. Скончался писате...</td>\n",
       "      <td>МОСКВА, 19 апр — РИА Новости. Скончался писате...</td>\n",
       "      <td>https://ria.ru/20200419/1570249967.html</td>\n",
       "      <td>0</td>\n",
       "    </tr>\n",
       "  </tbody>\n",
       "</table>\n",
       "</div>"
      ],
      "text/plain": [
       "      idnews  entrydate                                            headers  \\\n",
       "452      480 2020-04-02  Москва. 2 апреля. INTERFAX.RU - Традиционное з...   \n",
       "447      475 2020-04-02  Москва. 2 апреля. INTERFAX.RU - Премьер-минист...   \n",
       "1590    2662 2020-04-19  МОСКВА, 19 апр — РИА Новости. Скончался писате...   \n",
       "\n",
       "                                                  texts  \\\n",
       "452   Москва. 2 апреля. INTERFAX.RU - Традиционное з...   \n",
       "447   Москва. 2 апреля. INTERFAX.RU - Премьер-минист...   \n",
       "1590  МОСКВА, 19 апр — РИА Новости. Скончался писате...   \n",
       "\n",
       "                                        links  labels  \n",
       "452      https://www.interfax.ru/world/702067       0  \n",
       "447      https://www.interfax.ru/world/702071       0  \n",
       "1590  https://ria.ru/20200419/1570249967.html       0  "
      ]
     },
     "execution_count": 87,
     "metadata": {},
     "output_type": "execute_result"
    }
   ],
   "source": [
    "df[df['labels']==0].sample(3)"
   ]
  },
  {
   "cell_type": "code",
   "execution_count": 99,
   "metadata": {},
   "outputs": [
    {
     "data": {
      "text/plain": [
       "'Москва. 2 апреля. INTERFAX.RU - Премьер-министр Японии Синдзо Абэ рассматривает возможность отмены запланированного на май визита в Москву в связи с пандемией коронавируса COVID-19, сообщило агентство Kyodo со ссылкой на источники в японском правительстве. Глава японского правительства должен был принять участие в мероприятиях по случаю 75-годовщины Победы во Второй мировой войне. Также, отмечает агентство, Абэ рассчитывал провести переговоры с президентом РФ Владимиром Путиным. По словам источников Kyodo, между двумя странами из-за пандемии коронавируса давно не ведутся переговоры по подготовке визита Абэ. На этом фоне японский премьер склоняется к тому, чтобы отменить намеченный визит. При этом в конце марта пресс-секретарь президента РФ Дмитрий Песков сообщил, что в Кремле обсуждают возможную отмену парада 9 мая, но никаких решений пока не принималось. '"
      ]
     },
     "execution_count": 99,
     "metadata": {},
     "output_type": "execute_result"
    }
   ],
   "source": [
    "df[df['labels']==0].loc[447].texts"
   ]
  },
  {
   "cell_type": "code",
   "execution_count": 89,
   "metadata": {},
   "outputs": [
    {
     "data": {
      "text/html": [
       "<div>\n",
       "<style scoped>\n",
       "    .dataframe tbody tr th:only-of-type {\n",
       "        vertical-align: middle;\n",
       "    }\n",
       "\n",
       "    .dataframe tbody tr th {\n",
       "        vertical-align: top;\n",
       "    }\n",
       "\n",
       "    .dataframe thead th {\n",
       "        text-align: right;\n",
       "    }\n",
       "</style>\n",
       "<table border=\"1\" class=\"dataframe\">\n",
       "  <thead>\n",
       "    <tr style=\"text-align: right;\">\n",
       "      <th></th>\n",
       "      <th>idnews</th>\n",
       "      <th>entrydate</th>\n",
       "      <th>headers</th>\n",
       "      <th>texts</th>\n",
       "      <th>links</th>\n",
       "      <th>labels</th>\n",
       "    </tr>\n",
       "  </thead>\n",
       "  <tbody>\n",
       "    <tr>\n",
       "      <th>570</th>\n",
       "      <td>1096</td>\n",
       "      <td>2020-04-05</td>\n",
       "      <td>ЕВРО-2020. Молодой нападающий сборной Норвегии...</td>\n",
       "      <td>ЕВРО-2020. Молодой нападающий сборной Норвегии...</td>\n",
       "      <td>https://euro2020.ria.ru/20200402/1569478435.html</td>\n",
       "      <td>1</td>\n",
       "    </tr>\n",
       "    <tr>\n",
       "      <th>711</th>\n",
       "      <td>1484</td>\n",
       "      <td>2020-04-07</td>\n",
       "      <td>МОСКВА, 4 апр — РИА Новости. Пандемия коронави...</td>\n",
       "      <td>МОСКВА, 4 апр — РИА Новости. Пандемия коронави...</td>\n",
       "      <td>https://ria.ru/20200404/1569551342.html</td>\n",
       "      <td>1</td>\n",
       "    </tr>\n",
       "    <tr>\n",
       "      <th>2004</th>\n",
       "      <td>3086</td>\n",
       "      <td>2020-04-21</td>\n",
       "      <td>Москва. 20 апреля. INTERFAX.RU - Россия в конц...</td>\n",
       "      <td>Москва. 20 апреля. INTERFAX.RU - Россия в конц...</td>\n",
       "      <td>https://www.interfax.ru/russia/705189</td>\n",
       "      <td>1</td>\n",
       "    </tr>\n",
       "  </tbody>\n",
       "</table>\n",
       "</div>"
      ],
      "text/plain": [
       "      idnews  entrydate                                            headers  \\\n",
       "570     1096 2020-04-05  ЕВРО-2020. Молодой нападающий сборной Норвегии...   \n",
       "711     1484 2020-04-07  МОСКВА, 4 апр — РИА Новости. Пандемия коронави...   \n",
       "2004    3086 2020-04-21  Москва. 20 апреля. INTERFAX.RU - Россия в конц...   \n",
       "\n",
       "                                                  texts  \\\n",
       "570   ЕВРО-2020. Молодой нападающий сборной Норвегии...   \n",
       "711   МОСКВА, 4 апр — РИА Новости. Пандемия коронави...   \n",
       "2004  Москва. 20 апреля. INTERFAX.RU - Россия в конц...   \n",
       "\n",
       "                                                 links  labels  \n",
       "570   https://euro2020.ria.ru/20200402/1569478435.html       1  \n",
       "711            https://ria.ru/20200404/1569551342.html       1  \n",
       "2004             https://www.interfax.ru/russia/705189       1  "
      ]
     },
     "execution_count": 89,
     "metadata": {},
     "output_type": "execute_result"
    }
   ],
   "source": [
    "df[df['labels']==1].sample(3)"
   ]
  },
  {
   "cell_type": "code",
   "execution_count": 90,
   "metadata": {},
   "outputs": [
    {
     "data": {
      "text/plain": [
       "'МОСКВА, 4 апр — РИА Новости. Пандемия коронавируса сказалась на риторике мировых лидеров, но на международную политику это почти не повлияло. Неоднократные призывы Москвы прекратить торговые войны и отменить односторонние санкции хотя бы на время общей беды так и не услышали. А предложенную Россией резолюцию о солидарности в борьбе с коронавирусом заблокировали в Генассамблее ООН. Стоит ли ждать каких-то перемен в будущем, разбиралось РИА Новости.  \"Это был очень красивый жест со стороны президента Путина\", \"страна протягивает руку помощи американскому народу\", — так в Вашингтоне комментировали прилет в Нью-Йорк \"Руслана\" с гуманитарным грузом на борту. Россия доставила в Соединенные Штаты, где сейчас больше всего больных COVID-19, аппараты искусственной вентиляции легких и расходные материалы: маски и костюмы индивидуальной защиты.  По данным Университета Джона Хопкинса, в США уже 245 тысяч инфицированных. Скончались более шести тысяч человек. Тяжелее всего ситуация в Нью-Йорке, где и приземлился \"Руслан\".  \"Обе страны оказывали друг другу гуманитарную помощь во время кризисов в прошлом и, без сомнения, продолжат это в будущем. Сейчас надо работать сообща, чтобы победить общего врага, который угрожает каждому\", — сказали в Госдепе.  Позже выяснилось, что половину груза американцы оплатили — точнее, \"согласились приобрести у России\", как сказано в заявлении официального представителя Госдепа Морган Ортэгус. Приобретенные у России товары передали Федеральному агентству США по чрезвычайным ситуациям (FEMA).  Но вторая половина — за счет Российского фонда прямых инвестиций (РФПИ), отметили в российском МИД. Этот фонд уже много лет сотрудничает с американскими компаниями и всегда выступал за развитие диалога между странами. В фонде уточнили, что, если понадобится, США отправят в Россию аналогичный груз, тогда Вашингтон оплатит половину его стоимости.  \"Мы уверены, что Америка при необходимости тоже окажет нам содействие, и с радостью примем его. Без всякой политизации\", — сказал российский посол в Вашингтоне Анатолий Антонов.  Примечательная деталь: уже шесть лет УК \"Российский фонд прямых инвестиций\" находится под секторальными санкциями США — из-за событий на Украине. Ранее в фонде объясняли, что эти ограничения касаются лишь определенных финансовых транзакций, связанных с привлечением долгосрочного финансирования от европейских и американских компаний. Другие виды экономического взаимодействия не запрещены — во всяком случае, гуманитарный груз.  Но наблюдатели отметили: в Нью-Йорк доставили аппараты искусственной вентиляции легких \"Авента-М\". Их производит Уральский приборостроительный завод, входящий в концерн \"Радиоэлектронные технологии\" (КРЭТ), а он — под санкциями. Так не лучше ли от них отказаться? В конце марта это предлагал генеральный секретарь ООН Антониу Гутерриш. Он обращался к лидерам стран \"Большой двадцатки\" перед экстренным саммитом. К концу года экономические потери от эпидемии достигнут триллионов, говорил он. Поэтому надо отменить санкции, пошлины, квоты. Его поддержал президент России. Речь идет о жизни людей, надо \"вычистить эти вопросы от всяческой политической шелухи\", сказал Путин. Нужно отказаться от торговых войн и санкций, чтобы обеспечить поставки медикаментов, продовольствия, оборудования и технологий. Но, скажем, в отношении Тегерана по-прежнему действует запрет на торговлю золотом, операции с иранской валютой и госдолгом. Отвечая в начале апреля на вопрос журналистов об условиях снятия санкций, Дональд Трамп сказал: \"Все, что нужно сделать, это созвониться. Я просто думаю, что они гордые люди и их руководство гордое. Гордое, как все мы\".  В Тегеране действительно сменили риторику. \"К сожалению, США в трудных для всего мира условиях не извлекли урок, не поняли, что нужно делать. Это был хороший момент, сейчас они могли извиниться за свои ошибки, речь шла людях, никто бы не стал говорить, что вы капитулировали. Это была историческая возможность для американцев свернуть с ошибочного пути\", — сказал п'"
      ]
     },
     "execution_count": 90,
     "metadata": {},
     "output_type": "execute_result"
    }
   ],
   "source": [
    "df[df['labels']==1].loc[711].texts"
   ]
  },
  {
   "cell_type": "code",
   "execution_count": 91,
   "metadata": {},
   "outputs": [
    {
     "data": {
      "text/html": [
       "<div>\n",
       "<style scoped>\n",
       "    .dataframe tbody tr th:only-of-type {\n",
       "        vertical-align: middle;\n",
       "    }\n",
       "\n",
       "    .dataframe tbody tr th {\n",
       "        vertical-align: top;\n",
       "    }\n",
       "\n",
       "    .dataframe thead th {\n",
       "        text-align: right;\n",
       "    }\n",
       "</style>\n",
       "<table border=\"1\" class=\"dataframe\">\n",
       "  <thead>\n",
       "    <tr style=\"text-align: right;\">\n",
       "      <th></th>\n",
       "      <th>idnews</th>\n",
       "      <th>entrydate</th>\n",
       "      <th>headers</th>\n",
       "      <th>texts</th>\n",
       "      <th>links</th>\n",
       "      <th>labels</th>\n",
       "    </tr>\n",
       "  </thead>\n",
       "  <tbody>\n",
       "    <tr>\n",
       "      <th>144</th>\n",
       "      <td>150</td>\n",
       "      <td>2020-03-30</td>\n",
       "      <td>МИНСК, 30 марта. /ТАСС/. Белоруссия рассчитыва...</td>\n",
       "      <td>МИНСК, 30 марта. /ТАСС/. Белоруссия рассчитыва...</td>\n",
       "      <td>https://tass.ru/obschestvo/8116897</td>\n",
       "      <td>2</td>\n",
       "    </tr>\n",
       "    <tr>\n",
       "      <th>1271</th>\n",
       "      <td>2245</td>\n",
       "      <td>2020-04-14</td>\n",
       "      <td>МОСКВА, 14 апр — РИА Новости. Коронавирус може...</td>\n",
       "      <td>МОСКВА, 14 апр — РИА Новости. Коронавирус може...</td>\n",
       "      <td>https://ria.ru/20200414/1570030236.html</td>\n",
       "      <td>2</td>\n",
       "    </tr>\n",
       "    <tr>\n",
       "      <th>1510</th>\n",
       "      <td>2582</td>\n",
       "      <td>2020-04-16</td>\n",
       "      <td>СИМФЕРОПОЛЬ, 16 апр - РИА Новости. Первый штра...</td>\n",
       "      <td>СИМФЕРОПОЛЬ, 16 апр - РИА Новости. Первый штра...</td>\n",
       "      <td>https://ria.ru/20200416/1570130076.html</td>\n",
       "      <td>2</td>\n",
       "    </tr>\n",
       "  </tbody>\n",
       "</table>\n",
       "</div>"
      ],
      "text/plain": [
       "      idnews  entrydate                                            headers  \\\n",
       "144      150 2020-03-30  МИНСК, 30 марта. /ТАСС/. Белоруссия рассчитыва...   \n",
       "1271    2245 2020-04-14  МОСКВА, 14 апр — РИА Новости. Коронавирус може...   \n",
       "1510    2582 2020-04-16  СИМФЕРОПОЛЬ, 16 апр - РИА Новости. Первый штра...   \n",
       "\n",
       "                                                  texts  \\\n",
       "144   МИНСК, 30 марта. /ТАСС/. Белоруссия рассчитыва...   \n",
       "1271  МОСКВА, 14 апр — РИА Новости. Коронавирус може...   \n",
       "1510  СИМФЕРОПОЛЬ, 16 апр - РИА Новости. Первый штра...   \n",
       "\n",
       "                                        links  labels  \n",
       "144        https://tass.ru/obschestvo/8116897       2  \n",
       "1271  https://ria.ru/20200414/1570030236.html       2  \n",
       "1510  https://ria.ru/20200416/1570130076.html       2  "
      ]
     },
     "execution_count": 91,
     "metadata": {},
     "output_type": "execute_result"
    }
   ],
   "source": [
    "df[df['labels']==2].sample(3)"
   ]
  },
  {
   "cell_type": "code",
   "execution_count": 92,
   "metadata": {},
   "outputs": [
    {
     "data": {
      "text/plain": [
       "'МОСКВА, 14 апр — РИА Новости. Коронавирус может передаваться от человека к человеку на расстоянии четырех метров, заявил главный внештатный эпидемиолог Минздрава Николай Брико в эфире телеканала \"Россия 24\". По его словам, это подтверждается новым исследованием Центра по предупреждению и контролю заболеваний США (CDC). Вирус также может сохраняться в воздухе от 30 минут до трех часов, а на поверхности предметов — до нескольких дней. Брико подчеркнул, что, таким образом, передача может происходить не только воздушно-капельным, но и контактным путем. Отдельно специалист остановился на общей ситуации в России.  \"Отмечается тенденция к увеличению, к усилению интенсивности эпидемического процесса. В соответствии с критериями ВОЗ, мы находимся где-то, по крайней мере Москва — это точно совершенно, на третьей, а то и на четвертой фазе развития эпидемического процесса, когда уже трудно проследить видимые источники инфекции, видимую цепочку распространения вируса\", — рассказал он. Также Брико выразил мнение, что эффект от принимаемых мер должен проявиться примерно через неделю. В стране зафиксированы 21 102 случая заражения COVID-19, почти 1700 человек выздоровели, 170 умерли. Во многих регионах действует режим повышенной готовности, гражданам рекомендовано оставаться дома, прекращено авиа- и железнодорожное сообщение с другими государствами. Всего в мире более 1,8 миллиона инфицированных, свыше 113 тысяч скончались. Самая сложная ситуация — в США, Италии и Испании. В КНР, откуда распространился коронавирус, уже объявили об окончании эпидемии. Последние данные о ситуации с COVID-19 в России и мире представлены на портале стопкоронавирус.рф. '"
      ]
     },
     "execution_count": 92,
     "metadata": {},
     "output_type": "execute_result"
    }
   ],
   "source": [
    "df[df['labels']==2].loc[1271].texts"
   ]
  },
  {
   "cell_type": "code",
   "execution_count": 93,
   "metadata": {},
   "outputs": [],
   "source": [
    "# reduce the features to 2D\n",
    "pca = PCA(n_components=2, random_state=random_state)\n",
    "reduced_features = pca.fit_transform(features.toarray())"
   ]
  },
  {
   "cell_type": "code",
   "execution_count": 94,
   "metadata": {},
   "outputs": [],
   "source": [
    "# reduce the cluster centers to 2D\n",
    "reduced_cluster_centers = pca.transform(cls.cluster_centers_)"
   ]
  },
  {
   "cell_type": "markdown",
   "metadata": {},
   "source": [
    "Now that we have reduced our features and cluster centers into 2D, we can plot those points using a scatter plot. The first dimension will be used as X values and second dimension will be used as Y values in a XY plot. We also assign colors to each items using the predicted cluster labels so that items in a same cluster will be represented with same color. This is done by passing the labels to c parameter in scatter function. Again, if the clustering algorithm does not support predict function or if you want to visualize in the training data itself, you can also use c=cls.labels_ instead."
   ]
  },
  {
   "cell_type": "code",
   "execution_count": 95,
   "metadata": {},
   "outputs": [
    {
     "data": {
      "image/png": "[encoded data removed]",
      "text/plain": [
       "<Figure size 432x288 with 1 Axes>"
      ]
     },
     "metadata": {
      "needs_background": "light"
     },
     "output_type": "display_data"
    }
   ],
   "source": [
    "plt.scatter(reduced_features[:,0], reduced_features[:,1], c=cls.predict(features))\n",
    "plt.scatter(reduced_cluster_centers[:, 0], reduced_cluster_centers[:,1], marker='x', s=150, c='b');"
   ]
  },
  {
   "cell_type": "markdown",
   "metadata": {},
   "source": [
    "## Evaluation with unlabelled dataset"
   ]
  },
  {
   "cell_type": "markdown",
   "metadata": {},
   "source": [
    "If you don’t have labels for your dataset, then you can still evaluate your clustering model with some metrics. One of them is Silhouette Coefficient. From the sklearn’s documentation:\n",
    "\n",
    "The Silhouette Coefficient is calculated using the mean intra-cluster distance (a) and the mean nearest-cluster distance (b) for each sample. The Silhouette Coefficient for a sample is (b - a) / max(a,b). To clarify, b is the distance between a sample and the nearest cluster that the sample is not a part of.\n",
    "\n",
    "The best value is 1 and the worst value is -1. Values near 0 indicate overlapping clusters. Negative values generally indicate that a sample has been assigned to the wrong cluster, as a different cluster is more similar."
   ]
  },
  {
   "cell_type": "code",
   "execution_count": 96,
   "metadata": {},
   "outputs": [
    {
     "data": {
      "text/plain": [
       "0.006691276299680376"
      ]
     },
     "execution_count": 96,
     "metadata": {},
     "output_type": "execute_result"
    }
   ],
   "source": [
    "from sklearn.metrics import silhouette_score\n",
    "silhouette_score(features, labels=cls.predict(features))"
   ]
  },
  {
   "cell_type": "code",
   "execution_count": 97,
   "metadata": {},
   "outputs": [],
   "source": [
    "lables_kmeans = pd.DataFrame(labels)\n",
    "lables_kmeans.columns = ['labels']"
   ]
  },
  {
   "cell_type": "code",
   "execution_count": 98,
   "metadata": {},
   "outputs": [],
   "source": [
    "lables_kmeans.to_excel('lables_kmeans_news.xlsx', index=True)"
   ]
  },
  {
   "cell_type": "code",
   "execution_count": null,
   "metadata": {},
   "outputs": [],
   "source": []
  }
 ],
 "metadata": {
  "kernelspec": {
   "display_name": "Python 3",
   "language": "python",
   "name": "python3"
  },
  "language_info": {
   "codemirror_mode": {
    "name": "ipython",
    "version": 3
   },
   "file_extension": ".py",
   "mimetype": "text/x-python",
   "name": "python",
   "nbconvert_exporter": "python",
   "pygments_lexer": "ipython3",
   "version": "3.7.3"
  }
 },
 "nbformat": 4,
 "nbformat_minor": 2
}
